{
 "cells": [
  {
   "cell_type": "markdown",
   "id": "5fbae143-b801-412c-926e-3f958b9ee84e",
   "metadata": {},
   "source": [
    "# Create Static Run Files"
   ]
  },
  {
   "cell_type": "code",
   "execution_count": 31,
   "id": "92a77b48-0df1-4022-a608-e827efec42eb",
   "metadata": {},
   "outputs": [],
   "source": [
    "import ir_datasets\n",
    "import pandas as pd\n",
    "import json\n",
    "import ir_datasets\n",
    "\n",
    "WAPO_JUDGED_IDS = set(i for sublist in ir_datasets.load('wapo/v2/trec-core-2018').qrels.asdict().values() for i in sublist)\n",
    "NYT_JUDGED_IDS = set(i for sublist in ir_datasets.load('nyt/trec-core-2017').qrels.asdict().values() for i in sublist)\n",
    "\n",
    "LEAKAGE_TRAINING_DATASETS = [\n",
    "    '1k-random-orcas-no-overlap', '1k-random-ms-marco-no-overlap', '1k-explicit-robust04-train-leakage', '1k-queries-only-paraphrases', \n",
    "    '10k-random-orcas-no-overlap', '10k-random-ms-marco-no-overlap', '10k-explicit-robust04-train-leakage', '10k-queries-only-paraphrases', \n",
    "\n",
    "    '2k-random-orcas-and-ms-marco-no-overlap', '4k-random-orcas-and-ms-marco-no-overlap','8k-random-orcas-and-ms-marco-no-overlap', '16k-random-orcas-and-ms-marco-no-overlap', '32k-random-orcas-and-ms-marco-no-overlap', #'64k-random-orcas-and-ms-marco-no-overlap',\n",
    "    \n",
    "    '2k-random-orcas-and-ms-marco-no-overlap-and-1k-paraphrases', '4k-random-orcas-and-ms-marco-no-overlap-and-1k-paraphrases', '8k-random-orcas-and-ms-marco-no-overlap-and-1k-paraphrases', '16k-random-orcas-and-ms-marco-no-overlap-and-1k-paraphrases', '32k-random-orcas-and-ms-marco-no-overlap-and-1k-paraphrases', #'64k-random-orcas-and-ms-marco-no-overlap-and-1k-paraphrases',\n",
    "    \n",
    "    '2k-random-orcas-and-ms-marco-no-overlap-and-1k-robust04', '4k-random-orcas-and-ms-marco-no-overlap-and-1k-robust04', '8k-random-orcas-and-ms-marco-no-overlap-and-1k-robust04', '16k-random-orcas-and-ms-marco-no-overlap-and-1k-robust04', '32k-random-orcas-and-ms-marco-no-overlap-and-1k-robust04', # '64k-random-orcas-and-ms-marco-no-overlap-and-1k-robust04',\n",
    "    \n",
    "    '2k-random-orcas-and-ms-marco-no-overlap-and-400-explicit-nyt-train-leakage', '4k-random-orcas-and-ms-marco-no-overlap-and-400-explicit-nyt-train-leakage', '8k-random-orcas-and-ms-marco-no-overlap-and-400-explicit-nyt-train-leakage', '16k-random-orcas-and-ms-marco-no-overlap-and-400-explicit-nyt-train-leakage', '32k-random-orcas-and-ms-marco-no-overlap-and-400-explicit-nyt-train-leakage',\n",
    "    \n",
    "    '2k-random-orcas-and-ms-marco-no-overlap-and-400-explicit-wapo-train-leakage', '4k-random-orcas-and-ms-marco-no-overlap-and-400-explicit-wapo-train-leakage', '8k-random-orcas-and-ms-marco-no-overlap-and-400-explicit-wapo-train-leakage', '16k-random-orcas-and-ms-marco-no-overlap-and-400-explicit-wapo-train-leakage', '32k-random-orcas-and-ms-marco-no-overlap-and-400-explicit-wapo-train-leakage',\n",
    "]\n",
    "\n",
    "def prefix(doc_id):\n",
    "    if doc_id.startswith('FBI') or doc_id.startswith('FT') or doc_id.startswith('FR') or doc_id.startswith('LA'):\n",
    "        return 'robust04_'\n",
    "    elif doc_id.startswith('D') and int(doc_id[1:]) > 0:\n",
    "        return 'ms_marco_'\n",
    "    elif doc_id in WAPO_JUDGED_IDS:\n",
    "        return 'wapo_'\n",
    "    elif doc_id in NYT_JUDGED_IDS:\n",
    "        return 'nyt_'\n",
    "    else:\n",
    "         raise ValueError(doc_id)\n",
    "\n",
    "def to_qrels_ms_marco(file_name):    \n",
    "    ret = []\n",
    "    \n",
    "    with open('/mnt/ceph/storage/data-in-progress/data-research/web-search/ECIR-22/ecir22-zero-shot/training-data/' + file_name + '/training-data.txt', 'r') as f:\n",
    "        for l in f:\n",
    "            l = json.loads(l)\n",
    "            \n",
    "            ret += [{'query_id': prefix(l['docid']) + str(l['query_id']), 'doc_id': prefix(l['docid']) + str(l['docid']), 'rel': l['rel']}]\n",
    "\n",
    "    return pd.DataFrame(ret)\n",
    "\n",
    "def robust_04_qrels():\n",
    "    tmp = ir_datasets.load('trec-robust04').qrels.asdict()\n",
    "    ret = {}\n",
    "    for k,v in tmp.items():\n",
    "        ret['robust04_' + k] = {'robust04_' + doc_id: rel for doc_id, rel in v.items()}\n",
    "\n",
    "    return ret\n",
    "\n",
    "# Topics to skip from qrels and topics because they retrieve empty results('ms_marco_8874431' has a navigational query pointing to a documnent not retrievable by the content)\n",
    "TOPIC_SKIPLIST = set(json.load(open('../../jupyter/capreolus-models/topic_skiplist.json')))\n",
    "\n",
    "def remove_unwanted_topics(data):\n",
    "    for t in TOPIC_SKIPLIST:\n",
    "        if t in data:\n",
    "            del data[t]\n",
    "\n",
    "def qrels():\n",
    "    ret = {}\n",
    "\n",
    "    for training_dataset in LEAKAGE_TRAINING_DATASETS:\n",
    "        orig_qrels = to_qrels_ms_marco(training_dataset)\n",
    "\n",
    "        for _, i in orig_qrels.iterrows():\n",
    "            if i['query_id'] not in ret:\n",
    "                ret[i['query_id']] = {}\n",
    "\n",
    "            ret[i['query_id']][i['doc_id']] = int(i['rel'])\n",
    "\n",
    "    ret.update(robust_04_qrels())\n",
    "    remove_unwanted_topics(ret)\n",
    "    return ret\n",
    "\n",
    "with open('ms-marco-and-robust-04-train-test-leakage.run', 'w') as f:\n",
    "    for qid, docs in qrels().items():\n",
    "        docs = sorted(list(set(docs.keys())))\n",
    "        for rank, doc in enumerate(docs):\n",
    "            f.write(qid + ' Q0 ' + doc + ' ' + str(rank) + ' ' + str(len(docs) -rank) + ' static-run\\n')"
   ]
  },
  {
   "cell_type": "code",
   "execution_count": 22,
   "id": "0229842a-c99c-4e35-9b5d-21d9ebc1e349",
   "metadata": {},
   "outputs": [],
   "source": []
  },
  {
   "cell_type": "markdown",
   "id": "4d4adbc1-8d68-48d1-a1af-52e9b3dc7879",
   "metadata": {},
   "source": [
    "# Create static Run files for NYT"
   ]
  },
  {
   "cell_type": "code",
   "execution_count": 16,
   "id": "cade0eec-5e39-4d19-a126-fc65b8fc9bc8",
   "metadata": {},
   "outputs": [
    {
     "data": {
      "text/plain": [
       "965"
      ]
     },
     "execution_count": 16,
     "metadata": {},
     "output_type": "execute_result"
    }
   ],
   "source": [
    "max([len(docs) for qid, docs in ir_datasets.load('nyt/trec-core-2017').qrels.asdict().items()])"
   ]
  },
  {
   "cell_type": "code",
   "execution_count": 8,
   "id": "6a16ba1d-725a-4616-ad2f-61bbdb5237ac",
   "metadata": {},
   "outputs": [],
   "source": [
    "with open('nyt-ac-common-core-2017.run', 'w') as f:\n",
    "    for qid, docs in ir_datasets.load('nyt/trec-core-2017').qrels.asdict().items():\n",
    "        docs = sorted(list(set(docs.keys())))\n",
    "    \n",
    "        for rank, doc in enumerate(docs):\n",
    "            f.write(qid + ' Q0 ' + doc + ' ' + str(rank) + ' ' + str(len(docs) -rank) + ' static-run\\n')"
   ]
  },
  {
   "cell_type": "code",
   "execution_count": 12,
   "id": "01acf20d-d3ac-48dc-b22e-72d8ea427507",
   "metadata": {},
   "outputs": [
    {
     "data": {
      "text/plain": [
       "862"
      ]
     },
     "execution_count": 12,
     "metadata": {},
     "output_type": "execute_result"
    }
   ],
   "source": [
    "max([len(docs) for qid, docs in ir_datasets.load('wapo/v2/trec-core-2018').qrels.asdict().items()])"
   ]
  },
  {
   "cell_type": "markdown",
   "id": "cc52b373-c19d-4926-a55b-077b84618591",
   "metadata": {},
   "source": [
    "# Create static Run files for WAPO"
   ]
  },
  {
   "cell_type": "code",
   "execution_count": 13,
   "id": "029fb73b-4154-48f6-9480-7d9865c3f228",
   "metadata": {},
   "outputs": [],
   "source": [
    "with open('wapo-v2-common-core-2018.run', 'w') as f:\n",
    "    for qid, docs in ir_datasets.load('wapo/v2/trec-core-2018').qrels.asdict().items():\n",
    "        docs = sorted(list(set(docs.keys())))\n",
    "\n",
    "        for rank, doc in enumerate(docs):\n",
    "            f.write(qid + ' Q0 ' + doc + ' ' + str(rank) + ' ' + str(len(docs) -rank) + ' static-run\\n')"
   ]
  },
  {
   "cell_type": "code",
   "execution_count": 15,
   "id": "ef21afea-bca5-42d5-b1cb-f5abdc5740ad",
   "metadata": {},
   "outputs": [],
   "source": [
    "!git add wapo-v2-common-core-2018.run"
   ]
  },
  {
   "cell_type": "markdown",
   "id": "4ac6d955-b469-4e60-a013-fa616ac46783",
   "metadata": {},
   "source": [
    "# Create skiplist"
   ]
  },
  {
   "cell_type": "code",
   "execution_count": 32,
   "id": "f4547ac2-1757-4a93-b35e-37e4b57de842",
   "metadata": {},
   "outputs": [
    {
     "name": "stderr",
     "output_type": "stream",
     "text": [
      "1002it [00:00, 15657.38it/s]\n",
      "1002it [00:00, 16777.35it/s]\n",
      "996it [00:00, 2358.49it/s]\n",
      "1002it [00:00, 15515.42it/s]\n",
      "10002it [00:00, 15131.61it/s]\n",
      "10002it [00:00, 15608.18it/s]\n",
      "13798it [00:02, 6366.43it/s] \n",
      "10002it [00:00, 15445.82it/s]\n",
      "2004it [00:00, 15602.11it/s]\n",
      "4000it [00:00, 15965.16it/s]\n",
      "8000it [00:00, 15636.52it/s]\n",
      "16000it [00:01, 15753.12it/s]\n",
      "32000it [00:02, 15369.13it/s]\n",
      "2002it [00:00, 16450.06it/s]\n",
      "4002it [00:00, 15901.77it/s]\n",
      "8002it [00:00, 16139.54it/s]\n",
      "16002it [00:00, 16296.54it/s]\n",
      "32002it [00:02, 15854.04it/s]\n",
      "1996it [00:00, 4505.62it/s] \n",
      "3996it [00:00, 7203.16it/s] \n",
      "7996it [00:00, 9851.43it/s] \n",
      "15996it [00:01, 12333.53it/s]\n",
      "31996it [00:02, 13576.95it/s]\n",
      "2000it [00:00, 10147.40it/s]\n",
      "4000it [00:00, 12460.86it/s]\n",
      "8000it [00:00, 13963.79it/s]\n",
      "16000it [00:01, 15026.17it/s]\n",
      "32000it [00:02, 15232.00it/s]\n",
      "2000it [00:00, 10689.94it/s]\n",
      "4000it [00:00, 13007.25it/s]\n",
      "8000it [00:00, 14218.07it/s]\n",
      "16000it [00:01, 14532.26it/s]\n",
      "32000it [00:02, 15498.87it/s]\n"
     ]
    }
   ],
   "source": [
    "from tqdm import tqdm\n",
    "\n",
    "skiplist = set()\n",
    "skiplist_docs = set()\n",
    "for training_dataset in LEAKAGE_TRAINING_DATASETS:\n",
    "    with open('/mnt/ceph/storage/data-in-progress/data-research/web-search/ECIR-22/ecir22-zero-shot/training-data/' + training_dataset + '/training-data.txt', 'r') as f:\n",
    "        for l in tqdm(f):\n",
    "            l = json.loads(l)\n",
    "\n",
    "            if 'doc_text' not in l:\n",
    "                skiplist.add(prefix(l['docid']) + str(l['query_id']))\n",
    "\n",
    "            doc_text = l['doc_text']\n",
    "            doc_text = ''.join(filter(str.isalnum, doc_text)).strip()\n",
    "\n",
    "            if len(doc_text) < 10:\n",
    "                skiplist.add(prefix(l['docid']) + str(l['query_id']))\n",
    "                skiplist_docs.add(prefix(l['docid']) + l['docid'])"
   ]
  },
  {
   "cell_type": "code",
   "execution_count": 29,
   "id": "9b627267-193a-49f4-acd1-e7192a37f7e8",
   "metadata": {},
   "outputs": [
    {
     "data": {
      "text/plain": [
       "'[\"ms_marco_2046982\", \"ms_marco_9677239\", \"ms_marco_9448183\", \"ms_marco_6559293\", \"ms_marco_984754\", \"ms_marco_12669596\", \"ms_marco_3267825\", \"ms_marco_6099459\", \"ms_marco_3143354\", \"ms_marco_270029\", \"ms_marco_2400810\", \"ms_marco_11746476\", \"ms_marco_358550\", \"ms_marco_766765\", \"ms_marco_692682\", \"ms_marco_7987328\", \"ms_marco_12295107\", \"ms_marco_6328467\", \"ms_marco_631791\", \"ms_marco_8874431\", \"ms_marco_845372\", \"ms_marco_8688016\", \"ms_marco_4850264\", \"ms_marco_491327\", \"ms_marco_10722191\", \"ms_marco_3017470\", \"ms_marco_9435618\", \"ms_marco_10252667\", \"ms_marco_6271758\", \"ms_marco_11683643\", \"ms_marco_1041175\", \"ms_marco_500196\", \"ms_marco_851174\", \"ms_marco_302293\", \"ms_marco_3217583\", \"ms_marco_6392799\", \"ms_marco_7196565\", \"ms_marco_2889210\", \"ms_marco_2444190\", \"ms_marco_564961\", \"ms_marco_246220\", \"ms_marco_844305\", \"ms_marco_10929046\", \"ms_marco_2822468\", \"ms_marco_3768546\", \"ms_marco_868106\", \"ms_marco_163212\", \"ms_marco_11303249\", \"ms_marco_2095004\", \"ms_marco_757919\", \"ms_marco_975996\", \"ms_marco_7111609\", \"ms_marco_154166\", \"ms_marco_10057103\", \"ms_marco_6024852\", \"ms_marco_11047946\", \"ms_marco_465606\", \"ms_marco_6524420\", \"ms_marco_181203\", \"ms_marco_11176736\", \"ms_marco_12279854\", \"ms_marco_10562465\", \"ms_marco_2218048\", \"ms_marco_8491784\", \"ms_marco_1174776\", \"ms_marco_161390\", \"ms_marco_404872\", \"ms_marco_1038815\", \"ms_marco_8375481\", \"ms_marco_1170981\", \"ms_marco_10456998\", \"ms_marco_7929410\", \"ms_marco_1003355\", \"ms_marco_5983489\", \"ms_marco_792875\", \"ms_marco_12754224\", \"ms_marco_1184411\", \"ms_marco_390888\", \"ms_marco_11246775\", \"ms_marco_6566890\", \"ms_marco_473912\", \"ms_marco_974834\", \"ms_marco_2631737\", \"ms_marco_6896563\", \"ms_marco_3841492\", \"ms_marco_816955\", \"ms_marco_6321355\", \"ms_marco_11163831\", \"ms_marco_12546276\", \"ms_marco_422588\", \"ms_marco_6864801\", \"ms_marco_540819\", \"ms_marco_2179278\", \"ms_marco_10828619\", \"ms_marco_10292944\", \"ms_marco_12440819\", \"ms_marco_988478\", \"ms_marco_2256585\", \"ms_marco_3087401\", \"ms_marco_573188\", \"ms_marco_9864024\", \"ms_marco_12083740\", \"ms_marco_997797\", \"ms_marco_7030217\", \"ms_marco_4452639\", \"ms_marco_10475293\", \"ms_marco_9419541\", \"ms_marco_7420289\", \"ms_marco_717479\", \"ms_marco_3074426\", \"ms_marco_7450155\", \"ms_marco_799333\", \"ms_marco_518456\", \"ms_marco_9410872\", \"ms_marco_2832985\", \"ms_marco_3552041\", \"ms_marco_5147253\", \"ms_marco_6384203\", \"ms_marco_11321555\", \"ms_marco_171538\", \"ms_marco_7140112\", \"ms_marco_3935280\", \"ms_marco_8880623\", \"ms_marco_377036\", \"ms_marco_4722075\", \"ms_marco_493285\", \"ms_marco_10171113\", \"ms_marco_449852\", \"ms_marco_5573999\"]'"
      ]
     },
     "execution_count": 29,
     "metadata": {},
     "output_type": "execute_result"
    }
   ],
   "source": [
    "import json\n",
    "json.dumps([i for i in skiplist])"
   ]
  },
  {
   "cell_type": "code",
   "execution_count": 33,
   "id": "131a9502-d1c7-4cea-a60d-c212e44e3ab2",
   "metadata": {},
   "outputs": [
    {
     "data": {
      "text/plain": [
       "'[\"ms_marco_D1219585\", \"ms_marco_D2914936\", \"ms_marco_D2318873\", \"ms_marco_D869789\", \"ms_marco_D1998357\", \"ms_marco_D1477260\", \"ms_marco_D601927\", \"ms_marco_D366065\", \"ms_marco_D1372233\", \"ms_marco_D47623\", \"ms_marco_D649872\", \"ms_marco_D1754256\", \"ms_marco_D2839220\", \"ms_marco_D252401\", \"ms_marco_D1008978\", \"ms_marco_D1334116\", \"ms_marco_D1156691\", \"ms_marco_D1569764\", \"ms_marco_D2956588\", \"ms_marco_D1590974\", \"ms_marco_D2917988\", \"ms_marco_D638693\", \"ms_marco_D788023\", \"ms_marco_D3529085\", \"ms_marco_D2069998\", \"ms_marco_D77794\", \"ms_marco_D1239897\", \"ms_marco_D2689279\", \"ms_marco_D2226905\", \"ms_marco_D31994\", \"ms_marco_D2882714\", \"ms_marco_D3313712\", \"ms_marco_D2691975\", \"ms_marco_D2831911\", \"ms_marco_D1450900\", \"ms_marco_D2340065\", \"ms_marco_D669634\", \"ms_marco_D2081734\", \"ms_marco_D3011945\", \"ms_marco_D2386107\", \"ms_marco_D213130\", \"ms_marco_D1261252\", \"ms_marco_D3002714\", \"ms_marco_D2732246\", \"ms_marco_D3044541\", \"ms_marco_D1608555\", \"ms_marco_D80869\", \"ms_marco_D2249436\", \"ms_marco_D324836\", \"ms_marco_D1304294\", \"ms_marco_D3124231\", \"ms_marco_D589084\", \"ms_marco_D557276\", \"ms_marco_D438616\", \"ms_marco_D607336\", \"ms_marco_D117817\", \"ms_marco_D1690307\", \"ms_marco_D1191290\", \"ms_marco_D1151642\", \"ms_marco_D1097254\", \"ms_marco_D2492863\", \"ms_marco_D491333\", \"ms_marco_D3044434\", \"ms_marco_D2030931\", \"ms_marco_D2611112\", \"ms_marco_D2259296\", \"ms_marco_D2513196\", \"ms_marco_D2178501\", \"ms_marco_D1895896\", \"ms_marco_D1177649\", \"ms_marco_D805417\", \"ms_marco_D2610301\", \"ms_marco_D2039291\", \"ms_marco_D1054764\"]'"
      ]
     },
     "execution_count": 33,
     "metadata": {},
     "output_type": "execute_result"
    }
   ],
   "source": [
    "import json\n",
    "json.dumps([i for i in skiplist_docs])"
   ]
  }
 ],
 "metadata": {
  "kernelspec": {
   "display_name": "Python 3 (ipykernel)",
   "language": "python",
   "name": "python3"
  },
  "language_info": {
   "codemirror_mode": {
    "name": "ipython",
    "version": 3
   },
   "file_extension": ".py",
   "mimetype": "text/x-python",
   "name": "python",
   "nbconvert_exporter": "python",
   "pygments_lexer": "ipython3",
   "version": "3.8.8"
  }
 },
 "nbformat": 4,
 "nbformat_minor": 5
}
